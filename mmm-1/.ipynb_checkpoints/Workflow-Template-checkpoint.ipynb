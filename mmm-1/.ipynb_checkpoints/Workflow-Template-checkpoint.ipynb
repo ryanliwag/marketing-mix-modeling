{
 "cells": [
  {
   "cell_type": "markdown",
   "metadata": {},
   "source": [
    "# Market Mix Analysis\n",
    "\n",
    "# Preface: \n",
    "- ***Im a Data Enthusiast, still learning. Please show your support by upvoting and comment your suggestion and feel free to correct me whereever Im wrong. Wrote this to help out anyone who is starting getting started with marketing mix modeling***\n",
    "\n",
    "\n",
    "<!-- ## Quick ride through Linear Regression\n",
    "\n",
    "***For getting a gist of Linear Regression click on the link below.***\n",
    "\n",
    "Click here: **[Introduction_to_Linear_Regression](http://github.com/veer064/Linear-Regression/blob/master/README.md)** (This will take you to github.com)\n",
    "--- -->"
   ]
  },
  {
   "cell_type": "markdown",
   "metadata": {},
   "source": [
    "## Quick Data Overview\n",
    "Develop a MMM to to segregate the data\n",
    "\n",
    "## Goals\n",
    "    - What is/are the best business performance metrics that the company should consider?\n",
    "    - What are the insights that you can derive from the data set? \n",
    "    - Kindly supply visualizations to help drive your arguments. Include any cleansing, transformation, and preprocessing scripts used on the dataset.\n",
    "\n",
    "#### Outline\n",
    "\n",
    "1. [1: Reading and Understanding the Data](#1)\n",
    " * [1.1 Summary Statistics](#1.1)\n",
    " \n",
    "1. [2: Exploratory Analysis](#2)\n",
    "1. [3: Data Preparation](#3)\n",
    "1. [4: Model Building](#4)\n",
    "1. [5: Analysis](#5)"
   ]
  },
  {
   "cell_type": "markdown",
   "metadata": {},
   "source": [
    "<a id=\"1\"></a> <br>\n",
    "## 1 : Understanding The Data"
   ]
  },
  {
   "cell_type": "markdown",
   "metadata": {},
   "source": [
    "<a id=\"1.1\"></a> <br>\n",
    "### 1.1 Summary Statistics\n",
    "- Lets look at the  Summary Statistics of the marketing data,* **this gives you the information like mean, std, Quartile1, Quartile2, Quartile3, min and max values of a each and evry numeric features in our marketing DataFrame. ***"
   ]
  },
  {
   "cell_type": "markdown",
   "metadata": {},
   "source": [
    "<a id=\"2\"></a> <br>\n",
    "## 2 : Exploratory Analysis"
   ]
  },
  {
   "cell_type": "markdown",
   "metadata": {},
   "source": [
    "<a id=\"3\"></a> <br>\n",
    "## 3 : Data Preperations"
   ]
  },
  {
   "cell_type": "markdown",
   "metadata": {},
   "source": [
    "<a id=\"4\"></a> <br>\n",
    "## 4 : Modeling"
   ]
  },
  {
   "cell_type": "markdown",
   "metadata": {},
   "source": [
    "<a id=\"5\"></a> <br>\n",
    "## 5 : Final Analysis"
   ]
  }
 ],
 "metadata": {
  "kernelspec": {
   "display_name": "Python 3",
   "language": "python",
   "name": "python3"
  },
  "language_info": {
   "codemirror_mode": {
    "name": "ipython",
    "version": 3
   },
   "file_extension": ".py",
   "mimetype": "text/x-python",
   "name": "python",
   "nbconvert_exporter": "python",
   "pygments_lexer": "ipython3",
   "version": "3.8.5"
  }
 },
 "nbformat": 4,
 "nbformat_minor": 4
}
